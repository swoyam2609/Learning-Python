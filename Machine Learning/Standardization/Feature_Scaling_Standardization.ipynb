{
  "cells": [
    {
      "cell_type": "code",
      "execution_count": 6,
      "metadata": {
        "id": "1PSUvrTvb1b6"
      },
      "outputs": [],
      "source": [
        "import pandas as pd\n",
        "import numpy as np\n",
        "import matplotlib.pyplot as plt\n",
        "import seaborn as sns"
      ]
    },
    {
      "cell_type": "code",
      "execution_count": 7,
      "metadata": {
        "id": "Lvauq6gkdF3W"
      },
      "outputs": [],
      "source": [
        "df = pd.read_csv('Social_Network_Ads.csv')"
      ]
    },
    {
      "cell_type": "code",
      "execution_count": 11,
      "metadata": {
        "colab": {
          "base_uri": "https://localhost:8080/",
          "height": 206
        },
        "id": "-PQIbGKBdJHJ",
        "outputId": "1a2d879f-4173-4b2c-dd92-5b48a077a39d"
      },
      "outputs": [
        {
          "data": {
            "text/html": [
              "<div>\n",
              "<style scoped>\n",
              "    .dataframe tbody tr th:only-of-type {\n",
              "        vertical-align: middle;\n",
              "    }\n",
              "\n",
              "    .dataframe tbody tr th {\n",
              "        vertical-align: top;\n",
              "    }\n",
              "\n",
              "    .dataframe thead th {\n",
              "        text-align: right;\n",
              "    }\n",
              "</style>\n",
              "<table border=\"1\" class=\"dataframe\">\n",
              "  <thead>\n",
              "    <tr style=\"text-align: right;\">\n",
              "      <th></th>\n",
              "      <th>Age</th>\n",
              "      <th>EstimatedSalary</th>\n",
              "      <th>Purchased</th>\n",
              "    </tr>\n",
              "  </thead>\n",
              "  <tbody>\n",
              "    <tr>\n",
              "      <th>365</th>\n",
              "      <td>59</td>\n",
              "      <td>29000</td>\n",
              "      <td>1</td>\n",
              "    </tr>\n",
              "    <tr>\n",
              "      <th>311</th>\n",
              "      <td>39</td>\n",
              "      <td>96000</td>\n",
              "      <td>1</td>\n",
              "    </tr>\n",
              "    <tr>\n",
              "      <th>346</th>\n",
              "      <td>53</td>\n",
              "      <td>72000</td>\n",
              "      <td>1</td>\n",
              "    </tr>\n",
              "    <tr>\n",
              "      <th>50</th>\n",
              "      <td>24</td>\n",
              "      <td>32000</td>\n",
              "      <td>0</td>\n",
              "    </tr>\n",
              "    <tr>\n",
              "      <th>10</th>\n",
              "      <td>26</td>\n",
              "      <td>80000</td>\n",
              "      <td>0</td>\n",
              "    </tr>\n",
              "  </tbody>\n",
              "</table>\n",
              "</div>"
            ],
            "text/plain": [
              "     Age  EstimatedSalary  Purchased\n",
              "365   59            29000          1\n",
              "311   39            96000          1\n",
              "346   53            72000          1\n",
              "50    24            32000          0\n",
              "10    26            80000          0"
            ]
          },
          "execution_count": 11,
          "metadata": {},
          "output_type": "execute_result"
        }
      ],
      "source": [
        "df.sample(5)"
      ]
    },
    {
      "cell_type": "code",
      "execution_count": 20,
      "metadata": {
        "id": "7Zp5bJIbdKbw"
      },
      "outputs": [],
      "source": [
        "from sklearn.model_selection import train_test_split\n",
        "xTrain, xTest, yTrain, yTest = train_test_split(df.drop('Purchased', axis=1), df['Purchased'], train_size=0.9)"
      ]
    },
    {
      "cell_type": "code",
      "execution_count": 21,
      "metadata": {},
      "outputs": [],
      "source": [
        "from sklearn.preprocessing import StandardScaler\n",
        "scaler = StandardScaler()\n",
        "\n",
        "#we fit the scaler to the training data set, it will learn the parameters\n",
        "scaler.fit(xTrain)\n",
        "\n",
        "#now we transform the xTrain and xTest dataset to their respective scaled values\n",
        "xTrainScaled = scaler.transform(xTrain)\n",
        "xTestScaled = scaler.transform(xTest)"
      ]
    },
    {
      "cell_type": "code",
      "execution_count": 23,
      "metadata": {},
      "outputs": [
        {
          "data": {
            "text/plain": [
              "array([[-1.63319285,  0.045871  ],\n",
              "       [-1.06116487, -0.36476814],\n",
              "       [-0.01244691, -0.15944857],\n",
              "       [-0.2984609 , -0.51142497],\n",
              "       [ 0.65491907, -1.12738368],\n",
              "       [ 0.08289109,  1.04313747],\n",
              "       [ 1.41762305,  0.33918467],\n",
              "       [ 0.36890508,  0.1338651 ],\n",
              "       [-1.06116487, -0.36476814],\n",
              "       [ 0.84559507,  1.01380611],\n",
              "       [ 0.17822909,  0.2218592 ],\n",
              "       [-1.44251686, -0.65808181],\n",
              "       [-0.67981288, -0.36476814],\n",
              "       [ 1.03627106, -1.24470915],\n",
              "       [-0.1077849 ,  1.95240985],\n",
              "       [ 1.89431303, -0.95139548],\n",
              "       [-1.53785485, -0.2181113 ],\n",
              "       [-0.1077849 , -1.09805231],\n",
              "       [ 1.32228505,  2.33371762],\n",
              "       [ 0.84559507, -1.47936008],\n",
              "       [ 0.84559507, -1.33270325],\n",
              "       [ 0.27356709, -0.54075634],\n",
              "       [-0.2984609 , -0.33543677],\n",
              "       [ 0.84559507, -1.39136598],\n",
              "       [-1.34717886, -0.45276224],\n",
              "       [-1.91920684, -0.77540727],\n",
              "       [-1.06116487,  0.7498238 ],\n",
              "       [ 0.27356709, -0.57008771],\n",
              "       [-1.15650287,  0.45651014],\n",
              "       [ 0.75025707, -0.33543677],\n",
              "       [-0.58447489,  1.89374711],\n",
              "       [-1.25184086,  0.5738356 ],\n",
              "       [ 0.94093306, -1.21537778],\n",
              "       [-1.15650287,  0.045871  ],\n",
              "       [ 0.55958108,  2.01107258],\n",
              "       [ 0.17822909, -0.68741317],\n",
              "       [-1.63319285, -0.07145447],\n",
              "       [ 1.98965103, -1.21537778],\n",
              "       [ 0.27356709,  0.045871  ],\n",
              "       [-0.2031229 ,  1.39511388],\n",
              "       [ 1.79897503, -1.30337188],\n",
              "       [ 1.13160906, -1.01005821],\n",
              "       [-0.87048888, -0.80473864],\n",
              "       [-0.77515088,  0.28052193],\n",
              "       [ 0.75025707,  0.10453373],\n",
              "       [-0.1077849 ,  0.01653963],\n",
              "       [-0.48913689, -1.15671504],\n",
              "       [-0.2984609 ,  0.77915517],\n",
              "       [-0.67981288, -1.06872094],\n",
              "       [-1.34717886,  0.54450424],\n",
              "       [-1.15650287,  0.3098533 ],\n",
              "       [ 1.32228505,  0.5738356 ],\n",
              "       [ 0.75025707, -1.42069735],\n",
              "       [-0.2984609 , -0.59941907],\n",
              "       [ 0.08289109,  1.86441575],\n",
              "       [-1.15650287, -0.54075634],\n",
              "       [-0.77515088,  1.89374711],\n",
              "       [-1.82386884,  0.42717877],\n",
              "       [-1.06116487,  0.3978474 ],\n",
              "       [-0.2031229 ,  2.15772942],\n",
              "       [-0.67981288,  0.16319647],\n",
              "       [-0.01244691, -0.59941907],\n",
              "       [-0.2031229 ,  1.60043345],\n",
              "       [-0.1077849 ,  2.21639215],\n",
              "       [ 0.27356709, -0.74607591],\n",
              "       [ 1.98965103,  0.16319647],\n",
              "       [ 0.27356709,  0.28052193],\n",
              "       [-1.72853085,  0.45651014],\n",
              "       [ 1.98965103,  2.12839805],\n",
              "       [-0.48913689, -0.57008771],\n",
              "       [-0.39379889,  0.045871  ],\n",
              "       [ 0.94093306,  1.42444524],\n",
              "       [ 2.08498902, -0.71674454],\n",
              "       [-0.2984609 , -0.36476814],\n",
              "       [-0.96582687,  0.3978474 ],\n",
              "       [-0.96582687,  1.54177071],\n",
              "       [-0.2031229 , -0.2181113 ],\n",
              "       [ 0.84559507,  2.15772942],\n",
              "       [ 0.46424308,  1.71775891],\n",
              "       [-1.82386884, -1.30337188],\n",
              "       [-1.15650287,  0.28052193],\n",
              "       [-0.87048888, -0.68741317],\n",
              "       [ 0.08289109,  0.19252783],\n",
              "       [-1.15650287, -1.03938958],\n",
              "       [-0.2984609 , -0.95139548],\n",
              "       [-1.15650287, -0.80473864],\n",
              "       [ 0.75025707,  0.33918467],\n",
              "       [-0.96582687,  0.42717877],\n",
              "       [ 1.98965103, -0.83407001],\n",
              "       [ 0.17822909,  0.1338651 ],\n",
              "       [-0.2984609 , -0.3061054 ],\n",
              "       [-0.67981288,  0.10453373],\n",
              "       [-1.82386884,  0.16319647],\n",
              "       [-0.87048888,  2.27505488],\n",
              "       [-0.77515088, -0.62875044],\n",
              "       [-1.44251686, -1.24470915],\n",
              "       [ 1.32228505, -0.95139548],\n",
              "       [-0.58447489,  1.36578251],\n",
              "       [-0.48913689, -0.80473864],\n",
              "       [ 0.27356709, -1.18604641],\n",
              "       [-1.72853085,  0.10453373],\n",
              "       [-1.72853085,  0.33918467],\n",
              "       [-0.1077849 ,  0.28052193],\n",
              "       [ 0.65491907, -1.30337188],\n",
              "       [-0.1077849 , -0.51142497],\n",
              "       [-0.87048888, -0.80473864],\n",
              "       [ 0.08289109, -0.83407001],\n",
              "       [ 0.17822909, -0.3940995 ],\n",
              "       [-1.82386884, -0.01279174],\n",
              "       [ 1.79897503,  0.10453373],\n",
              "       [-1.15650287, -1.56735418],\n",
              "       [ 1.41762305,  0.98447474],\n",
              "       [-1.34717886,  0.3978474 ],\n",
              "       [-0.2984609 ,  0.07520237],\n",
              "       [-1.15650287, -1.62601692],\n",
              "       [ 1.60829904,  1.74709028],\n",
              "       [ 1.51296104,  1.10180021],\n",
              "       [-0.2984609 , -0.92206411],\n",
              "       [-1.06116487,  1.95240985],\n",
              "       [-0.96582687, -0.33543677],\n",
              "       [ 0.17822909, -0.3940995 ],\n",
              "       [ 0.08289109,  0.7498238 ],\n",
              "       [-0.2984609 , -1.42069735],\n",
              "       [-0.77515088,  0.4858415 ],\n",
              "       [-0.67981288, -1.53802281],\n",
              "       [-1.34717886, -1.39136598],\n",
              "       [ 1.41762305,  2.12839805],\n",
              "       [-1.91920684,  0.45651014],\n",
              "       [ 0.27356709, -0.3061054 ],\n",
              "       [-0.96582687, -0.98072684],\n",
              "       [-0.39379889,  1.21912568],\n",
              "       [-1.34717886, -0.45276224],\n",
              "       [ 1.89431303, -1.39136598],\n",
              "       [-0.2984609 ,  0.25119057],\n",
              "       [-1.34717886, -0.36476814],\n",
              "       [-1.34717886, -1.27404051],\n",
              "       [ 1.13160906, -0.77540727],\n",
              "       [ 1.60829904, -0.92206411],\n",
              "       [ 1.98965103,  0.51517287],\n",
              "       [-0.77515088, -0.24744267],\n",
              "       [ 1.03627106,  0.45651014],\n",
              "       [ 0.36890508,  0.5738356 ],\n",
              "       [ 1.03627106,  0.51517287],\n",
              "       [-0.67981288, -0.07145447],\n",
              "       [ 0.08289109,  0.25119057],\n",
              "       [-0.48913689, -1.24470915],\n",
              "       [-0.1077849 ,  0.28052193],\n",
              "       [ 0.75025707,  1.36578251],\n",
              "       [ 1.03627106,  2.06973532],\n",
              "       [ 0.27356709,  0.045871  ],\n",
              "       [ 1.79897503, -1.09805231],\n",
              "       [-0.67981288,  0.54450424],\n",
              "       [ 0.36890508,  2.30438625],\n",
              "       [ 0.27356709,  0.045871  ],\n",
              "       [-0.87048888, -0.27677404],\n",
              "       [-1.53785485,  0.3098533 ],\n",
              "       [-0.01244691,  1.24845704],\n",
              "       [-0.2984609 , -1.47936008],\n",
              "       [-0.01244691,  0.28052193],\n",
              "       [-0.1077849 ,  0.2218592 ],\n",
              "       [-0.1077849 ,  2.15772942],\n",
              "       [ 0.36890508, -0.51142497],\n",
              "       [-0.2031229 , -0.59941907],\n",
              "       [ 0.36890508, -0.01279174],\n",
              "       [ 0.75025707,  0.7498238 ],\n",
              "       [ 0.65491907,  0.25119057],\n",
              "       [ 0.84559507, -0.59941907],\n",
              "       [-0.39379889, -0.80473864],\n",
              "       [ 0.08289109, -0.27677404],\n",
              "       [-0.01244691,  0.01653963],\n",
              "       [ 0.65491907, -1.42069735],\n",
              "       [-1.15650287,  0.28052193],\n",
              "       [-1.06116487, -0.3940995 ],\n",
              "       [ 0.65491907,  1.77642165],\n",
              "       [-0.39379889, -0.80473864],\n",
              "       [ 0.36890508,  1.10180021],\n",
              "       [-0.77515088,  1.07246884],\n",
              "       [ 0.75025707,  0.51517287],\n",
              "       [ 1.51296104, -1.30337188],\n",
              "       [-0.2984609 ,  0.1338651 ],\n",
              "       [ 0.17822909,  2.09906668],\n",
              "       [-0.96582687,  0.25119057],\n",
              "       [-1.53785485, -1.53802281],\n",
              "       [ 1.32228505, -1.45002871],\n",
              "       [ 0.17822909, -0.27677404],\n",
              "       [ 2.08498902,  1.10180021],\n",
              "       [-0.48913689, -0.3061054 ],\n",
              "       [ 0.94093306,  2.06973532],\n",
              "       [ 0.17822909,  0.01653963],\n",
              "       [ 1.22694705,  1.86441575],\n",
              "       [-1.44251686, -0.1301172 ],\n",
              "       [ 0.84559507,  1.07246884],\n",
              "       [-0.1077849 ,  0.19252783],\n",
              "       [-0.2984609 ,  0.51517287],\n",
              "       [-0.96582687,  0.54450424],\n",
              "       [ 0.94093306,  0.5738356 ],\n",
              "       [ 0.27356709, -0.33543677],\n",
              "       [ 0.94093306, -1.09805231],\n",
              "       [ 0.36890508, -0.15944857],\n",
              "       [-0.58447489,  1.45377661],\n",
              "       [ 0.94093306,  1.86441575],\n",
              "       [ 1.22694705, -1.39136598],\n",
              "       [ 0.94093306, -1.09805231],\n",
              "       [-0.58447489,  0.86714927],\n",
              "       [-0.67981288, -0.1301172 ],\n",
              "       [-1.34717886, -1.12738368],\n",
              "       [ 0.36890508, -0.48209361],\n",
              "       [ 0.84559507, -1.06872094],\n",
              "       [-1.53785485, -1.27404051],\n",
              "       [ 1.41762305, -1.06872094],\n",
              "       [ 0.08289109,  0.01653963],\n",
              "       [-1.72853085, -0.62875044],\n",
              "       [ 0.94093306,  0.7498238 ],\n",
              "       [-0.96582687, -1.12738368],\n",
              "       [ 0.84559507, -0.80473864],\n",
              "       [ 0.36890508,  0.28052193],\n",
              "       [ 1.13160906,  0.51517287],\n",
              "       [ 2.08498902, -0.83407001],\n",
              "       [-0.1077849 ,  0.10453373],\n",
              "       [ 1.51296104, -0.01279174],\n",
              "       [-0.39379889, -1.33270325],\n",
              "       [ 1.51296104,  0.98447474],\n",
              "       [ 0.08289109,  1.86441575],\n",
              "       [ 1.60829904,  1.60043345],\n",
              "       [ 1.41762305,  0.045871  ],\n",
              "       [-1.15650287, -1.62601692],\n",
              "       [-1.44251686, -1.47936008],\n",
              "       [ 0.75025707, -1.39136598],\n",
              "       [-0.67981288,  0.01653963],\n",
              "       [-0.67981288,  1.39511388],\n",
              "       [-0.96582687, -0.33543677],\n",
              "       [-0.01244691, -0.57008771],\n",
              "       [-1.06116487,  0.5738356 ],\n",
              "       [ 0.27356709, -0.54075634],\n",
              "       [-0.2031229 , -1.09805231],\n",
              "       [-1.15650287, -1.12738368],\n",
              "       [-0.58447489,  0.45651014],\n",
              "       [ 1.03627106, -1.24470915],\n",
              "       [-0.58447489,  2.33371762],\n",
              "       [-1.15650287, -1.18604641],\n",
              "       [-0.2984609 , -0.77540727],\n",
              "       [ 0.94093306, -0.86340138],\n",
              "       [-0.39379889,  1.30711978],\n",
              "       [ 0.08289109, -0.33543677],\n",
              "       [-0.87048888,  0.1338651 ],\n",
              "       [-0.2984609 , -0.45276224],\n",
              "       [-0.2031229 , -0.48209361],\n",
              "       [ 0.17822909, -0.3061054 ],\n",
              "       [ 0.36890508, -0.18877994],\n",
              "       [-0.2984609 ,  0.60316697],\n",
              "       [-1.25184086, -1.09805231],\n",
              "       [-1.91920684,  0.33918467],\n",
              "       [ 0.08289109, -0.83407001],\n",
              "       [-0.48913689,  2.30438625],\n",
              "       [-0.77515088, -1.56735418],\n",
              "       [ 0.27356709,  0.045871  ],\n",
              "       [-0.01244691, -0.45276224],\n",
              "       [-0.2984609 , -0.3940995 ],\n",
              "       [-1.15650287,  1.39511388],\n",
              "       [-0.2984609 ,  0.01653963],\n",
              "       [ 1.32228505,  1.27778841],\n",
              "       [-0.2984609 , -0.27677404],\n",
              "       [ 0.17822909,  0.1338651 ],\n",
              "       [ 0.27356709,  0.25119057],\n",
              "       [ 0.84559507, -0.57008771],\n",
              "       [-0.87048888,  0.28052193],\n",
              "       [-1.63319285,  0.51517287],\n",
              "       [ 0.36890508,  0.25119057],\n",
              "       [-1.82386884, -1.33270325],\n",
              "       [-0.1077849 ,  0.045871  ],\n",
              "       [-0.1077849 ,  0.6618297 ],\n",
              "       [ 0.27356709, -0.2181113 ],\n",
              "       [ 1.03627106, -1.01005821],\n",
              "       [ 0.36890508, -0.15944857],\n",
              "       [-0.87048888, -1.24470915],\n",
              "       [ 0.36890508,  0.98447474],\n",
              "       [-0.77515088, -1.62601692],\n",
              "       [-0.2984609 , -0.15944857],\n",
              "       [-0.77515088,  0.25119057],\n",
              "       [-1.25184086, -1.42069735],\n",
              "       [-1.91920684, -0.54075634],\n",
              "       [-0.2031229 ,  0.83781791],\n",
              "       [-1.06116487, -1.15671504],\n",
              "       [-0.1077849 , -0.3940995 ],\n",
              "       [ 1.89431303,  0.72049244],\n",
              "       [-0.96582687, -0.77540727],\n",
              "       [ 0.75025707, -0.86340138],\n",
              "       [ 0.36890508,  0.28052193],\n",
              "       [-0.01244691, -0.59941907],\n",
              "       [ 1.89431303,  2.15772942],\n",
              "       [ 1.98965103,  0.36851603],\n",
              "       [ 1.32228505,  1.98174121],\n",
              "       [ 0.17822909,  1.07246884],\n",
              "       [-0.1077849 , -0.01279174],\n",
              "       [ 1.70363704,  1.83508438],\n",
              "       [ 0.08289109,  1.51243934],\n",
              "       [ 0.84559507,  1.24845704],\n",
              "       [ 1.03627106, -0.15944857],\n",
              "       [-0.2984609 , -1.27404051],\n",
              "       [-1.91920684, -0.07145447],\n",
              "       [-0.58447489,  1.36578251],\n",
              "       [ 0.55958108, -0.92206411],\n",
              "       [-0.01244691, -0.33543677],\n",
              "       [-1.53785485, -0.45276224],\n",
              "       [ 1.70363704,  0.98447474],\n",
              "       [-0.1077849 , -0.45276224],\n",
              "       [ 0.84559507, -0.62875044],\n",
              "       [-1.15650287,  0.3978474 ],\n",
              "       [ 2.08498902, -0.83407001],\n",
              "       [ 1.89431303,  0.89648064],\n",
              "       [ 0.75025707,  0.25119057],\n",
              "       [-0.01244691,  0.01653963],\n",
              "       [ 0.94093306,  1.98174121],\n",
              "       [-0.1077849 ,  0.1338651 ],\n",
              "       [ 0.65491907, -1.42069735],\n",
              "       [-0.01244691, -0.27677404],\n",
              "       [ 0.08289109,  0.07520237],\n",
              "       [ 0.36890508, -0.48209361],\n",
              "       [ 0.94093306, -1.18604641],\n",
              "       [-0.1077849 ,  0.25119057],\n",
              "       [ 0.17822909,  0.045871  ],\n",
              "       [ 2.08498902, -1.06872094],\n",
              "       [ 1.70363704, -0.3061054 ],\n",
              "       [ 0.17822909, -0.3940995 ],\n",
              "       [ 1.79897503, -0.3061054 ],\n",
              "       [-0.2984609 ,  2.24572352],\n",
              "       [-0.58447489, -1.53802281],\n",
              "       [ 1.98965103,  1.74709028],\n",
              "       [-0.48913689, -0.86340138],\n",
              "       [ 1.03627106,  0.54450424],\n",
              "       [-0.01244691, -0.27677404],\n",
              "       [-1.06116487,  0.54450424],\n",
              "       [-0.48913689,  1.24845704],\n",
              "       [ 0.17822909, -0.15944857],\n",
              "       [ 0.75025707, -1.12738368],\n",
              "       [ 0.27356709,  0.4858415 ],\n",
              "       [ 0.94093306,  1.77642165],\n",
              "       [-1.63319285, -1.59668555],\n",
              "       [ 0.08289109,  0.1338651 ],\n",
              "       [ 1.13160906, -1.47936008],\n",
              "       [ 0.46424308,  1.83508438],\n",
              "       [ 0.84559507, -0.68741317],\n",
              "       [-0.2984609 ,  1.10180021],\n",
              "       [-0.2031229 ,  0.1338651 ],\n",
              "       [ 0.94093306, -1.03938958],\n",
              "       [ 0.46424308,  1.21912568],\n",
              "       [-0.87048888,  0.36851603],\n",
              "       [-0.87048888,  0.36851603],\n",
              "       [ 2.08498902,  0.36851603],\n",
              "       [-1.06116487, -0.48209361],\n",
              "       [ 0.36890508,  0.07520237],\n",
              "       [-1.72853085, -1.01005821],\n",
              "       [-1.25184086,  0.25119057],\n",
              "       [-0.2984609 ,  0.045871  ],\n",
              "       [ 0.65491907, -0.74607591],\n",
              "       [ 2.08498902,  0.92581201],\n",
              "       [-0.58447489, -1.53802281],\n",
              "       [-0.2984609 , -1.33270325],\n",
              "       [ 1.89431303, -0.68741317],\n",
              "       [ 0.84559507, -1.18604641]])"
            ]
          },
          "execution_count": 23,
          "metadata": {},
          "output_type": "execute_result"
        }
      ],
      "source": [
        "xTrainScaled # the scaler.transform() function returns a numpy array, we need to convert it into a pandas dataframe now"
      ]
    },
    {
      "cell_type": "code",
      "execution_count": 25,
      "metadata": {},
      "outputs": [],
      "source": [
        "xTrainScaled = pd.DataFrame(xTrainScaled, columns=xTrain.columns)\n",
        "xTestScaled = pd.DataFrame(xTestScaled, columns=xTest.columns)"
      ]
    },
    {
      "cell_type": "code",
      "execution_count": 28,
      "metadata": {},
      "outputs": [
        {
          "data": {
            "text/html": [
              "<div>\n",
              "<style scoped>\n",
              "    .dataframe tbody tr th:only-of-type {\n",
              "        vertical-align: middle;\n",
              "    }\n",
              "\n",
              "    .dataframe tbody tr th {\n",
              "        vertical-align: top;\n",
              "    }\n",
              "\n",
              "    .dataframe thead th {\n",
              "        text-align: right;\n",
              "    }\n",
              "</style>\n",
              "<table border=\"1\" class=\"dataframe\">\n",
              "  <thead>\n",
              "    <tr style=\"text-align: right;\">\n",
              "      <th></th>\n",
              "      <th>Age</th>\n",
              "      <th>EstimatedSalary</th>\n",
              "    </tr>\n",
              "  </thead>\n",
              "  <tbody>\n",
              "    <tr>\n",
              "      <th>count</th>\n",
              "      <td>360.0</td>\n",
              "      <td>360.0</td>\n",
              "    </tr>\n",
              "    <tr>\n",
              "      <th>mean</th>\n",
              "      <td>0.0</td>\n",
              "      <td>0.0</td>\n",
              "    </tr>\n",
              "    <tr>\n",
              "      <th>std</th>\n",
              "      <td>1.0</td>\n",
              "      <td>1.0</td>\n",
              "    </tr>\n",
              "    <tr>\n",
              "      <th>min</th>\n",
              "      <td>-1.9</td>\n",
              "      <td>-1.6</td>\n",
              "    </tr>\n",
              "    <tr>\n",
              "      <th>25%</th>\n",
              "      <td>-0.8</td>\n",
              "      <td>-0.8</td>\n",
              "    </tr>\n",
              "    <tr>\n",
              "      <th>50%</th>\n",
              "      <td>-0.1</td>\n",
              "      <td>-0.0</td>\n",
              "    </tr>\n",
              "    <tr>\n",
              "      <th>75%</th>\n",
              "      <td>0.8</td>\n",
              "      <td>0.5</td>\n",
              "    </tr>\n",
              "    <tr>\n",
              "      <th>max</th>\n",
              "      <td>2.1</td>\n",
              "      <td>2.3</td>\n",
              "    </tr>\n",
              "  </tbody>\n",
              "</table>\n",
              "</div>"
            ],
            "text/plain": [
              "         Age  EstimatedSalary\n",
              "count  360.0            360.0\n",
              "mean     0.0              0.0\n",
              "std      1.0              1.0\n",
              "min     -1.9             -1.6\n",
              "25%     -0.8             -0.8\n",
              "50%     -0.1             -0.0\n",
              "75%      0.8              0.5\n",
              "max      2.1              2.3"
            ]
          },
          "execution_count": 28,
          "metadata": {},
          "output_type": "execute_result"
        }
      ],
      "source": [
        "np.round(xTrainScaled.describe(), 1)"
      ]
    },
    {
      "cell_type": "code",
      "execution_count": 29,
      "metadata": {},
      "outputs": [
        {
          "data": {
            "text/html": [
              "<div>\n",
              "<style scoped>\n",
              "    .dataframe tbody tr th:only-of-type {\n",
              "        vertical-align: middle;\n",
              "    }\n",
              "\n",
              "    .dataframe tbody tr th {\n",
              "        vertical-align: top;\n",
              "    }\n",
              "\n",
              "    .dataframe thead th {\n",
              "        text-align: right;\n",
              "    }\n",
              "</style>\n",
              "<table border=\"1\" class=\"dataframe\">\n",
              "  <thead>\n",
              "    <tr style=\"text-align: right;\">\n",
              "      <th></th>\n",
              "      <th>Age</th>\n",
              "      <th>EstimatedSalary</th>\n",
              "    </tr>\n",
              "  </thead>\n",
              "  <tbody>\n",
              "    <tr>\n",
              "      <th>0</th>\n",
              "      <td>-1.633193</td>\n",
              "      <td>0.045871</td>\n",
              "    </tr>\n",
              "    <tr>\n",
              "      <th>1</th>\n",
              "      <td>-1.061165</td>\n",
              "      <td>-0.364768</td>\n",
              "    </tr>\n",
              "    <tr>\n",
              "      <th>2</th>\n",
              "      <td>-0.012447</td>\n",
              "      <td>-0.159449</td>\n",
              "    </tr>\n",
              "    <tr>\n",
              "      <th>3</th>\n",
              "      <td>-0.298461</td>\n",
              "      <td>-0.511425</td>\n",
              "    </tr>\n",
              "    <tr>\n",
              "      <th>4</th>\n",
              "      <td>0.654919</td>\n",
              "      <td>-1.127384</td>\n",
              "    </tr>\n",
              "    <tr>\n",
              "      <th>...</th>\n",
              "      <td>...</td>\n",
              "      <td>...</td>\n",
              "    </tr>\n",
              "    <tr>\n",
              "      <th>355</th>\n",
              "      <td>2.084989</td>\n",
              "      <td>0.925812</td>\n",
              "    </tr>\n",
              "    <tr>\n",
              "      <th>356</th>\n",
              "      <td>-0.584475</td>\n",
              "      <td>-1.538023</td>\n",
              "    </tr>\n",
              "    <tr>\n",
              "      <th>357</th>\n",
              "      <td>-0.298461</td>\n",
              "      <td>-1.332703</td>\n",
              "    </tr>\n",
              "    <tr>\n",
              "      <th>358</th>\n",
              "      <td>1.894313</td>\n",
              "      <td>-0.687413</td>\n",
              "    </tr>\n",
              "    <tr>\n",
              "      <th>359</th>\n",
              "      <td>0.845595</td>\n",
              "      <td>-1.186046</td>\n",
              "    </tr>\n",
              "  </tbody>\n",
              "</table>\n",
              "<p>360 rows × 2 columns</p>\n",
              "</div>"
            ],
            "text/plain": [
              "          Age  EstimatedSalary\n",
              "0   -1.633193         0.045871\n",
              "1   -1.061165        -0.364768\n",
              "2   -0.012447        -0.159449\n",
              "3   -0.298461        -0.511425\n",
              "4    0.654919        -1.127384\n",
              "..        ...              ...\n",
              "355  2.084989         0.925812\n",
              "356 -0.584475        -1.538023\n",
              "357 -0.298461        -1.332703\n",
              "358  1.894313        -0.687413\n",
              "359  0.845595        -1.186046\n",
              "\n",
              "[360 rows x 2 columns]"
            ]
          },
          "execution_count": 29,
          "metadata": {},
          "output_type": "execute_result"
        }
      ],
      "source": [
        "xTrainScaled"
      ]
    },
    {
      "cell_type": "code",
      "execution_count": 33,
      "metadata": {},
      "outputs": [
        {
          "data": {
            "text/plain": [
              "<AxesSubplot: xlabel='Age', ylabel='EstimatedSalary'>"
            ]
          },
          "execution_count": 33,
          "metadata": {},
          "output_type": "execute_result"
        },
        {
          "data": {
            "image/png": "[encoded data removed]",
            "text/plain": [
              "<Figure size 640x480 with 1 Axes>"
            ]
          },
          "metadata": {},
          "output_type": "display_data"
        }
      ],
      "source": [
        "sns.scatterplot(data=xTrain, x='Age', y='EstimatedSalary')"
      ]
    },
    {
      "cell_type": "code",
      "execution_count": 37,
      "metadata": {},
      "outputs": [
        {
          "data": {
            "text/plain": [
              "<AxesSubplot: xlabel='Age', ylabel='EstimatedSalary'>"
            ]
          },
          "execution_count": 37,
          "metadata": {},
          "output_type": "execute_result"
        },
        {
          "data": {
            "image/png": "[encoded data removed]",
            "text/plain": [
              "<Figure size 640x480 with 1 Axes>"
            ]
          },
          "metadata": {},
          "output_type": "display_data"
        }
      ],
      "source": [
        "sns.scatterplot(data=xTrainScaled, x='Age', y='EstimatedSalary')"
      ]
    },
    {
      "cell_type": "code",
      "execution_count": 44,
      "metadata": {},
      "outputs": [
        {
          "data": {
            "text/plain": [
              "<AxesSubplot: xlabel='Age', ylabel='Density'>"
            ]
          },
          "execution_count": 44,
          "metadata": {},
          "output_type": "execute_result"
        },
        {
          "data": {
            "image/png": "[encoded data removed]",
            "text/plain": [
              "<Figure size 640x480 with 1 Axes>"
            ]
          },
          "metadata": {},
          "output_type": "display_data"
        }
      ],
      "source": [
        "sns.kdeplot(xTrainScaled['Age'])\n",
        "sns.kdeplot(xTrainScaled['EstimatedSalary'])"
      ]
    },
    {
      "cell_type": "code",
      "execution_count": 45,
      "metadata": {},
      "outputs": [
        {
          "data": {
            "text/plain": [
              "<AxesSubplot: xlabel='Age', ylabel='Density'>"
            ]
          },
          "execution_count": 45,
          "metadata": {},
          "output_type": "execute_result"
        },
        {
          "data": {
            "image/png": "[encoded data removed]",
            "text/plain": [
              "<Figure size 640x480 with 1 Axes>"
            ]
          },
          "metadata": {},
          "output_type": "display_data"
        }
      ],
      "source": [
        "sns.kdeplot(xTrain['Age'])\n",
        "sns.kdeplot(xTrain['EstimatedSalary'])"
      ]
    },
    {
      "attachments": {},
      "cell_type": "markdown",
      "metadata": {},
      "source": [
        "# Checking the Efficiency of the LOGISTIC REGRESSION algorithm with scaled and unscaled data"
      ]
    },
    {
      "cell_type": "code",
      "execution_count": 46,
      "metadata": {},
      "outputs": [],
      "source": [
        "from sklearn.linear_model import LogisticRegression"
      ]
    },
    {
      "cell_type": "code",
      "execution_count": 47,
      "metadata": {},
      "outputs": [],
      "source": [
        "lr1 = LogisticRegression()\n",
        "lr2 = LogisticRegression()"
      ]
    },
    {
      "cell_type": "code",
      "execution_count": 48,
      "metadata": {},
      "outputs": [
        {
          "data": {
            "text/html": [
              "<style>#sk-container-id-1 {color: black;background-color: white;}#sk-container-id-1 pre{padding: 0;}#sk-container-id-1 div.sk-toggleable {background-color: white;}#sk-container-id-1 label.sk-toggleable__label {cursor: pointer;display: block;width: 100%;margin-bottom: 0;padding: 0.3em;box-sizing: border-box;text-align: center;}#sk-container-id-1 label.sk-toggleable__label-arrow:before {content: \"▸\";float: left;margin-right: 0.25em;color: #696969;}#sk-container-id-1 label.sk-toggleable__label-arrow:hover:before {color: black;}#sk-container-id-1 div.sk-estimator:hover label.sk-toggleable__label-arrow:before {color: black;}#sk-container-id-1 div.sk-toggleable__content {max-height: 0;max-width: 0;overflow: hidden;text-align: left;background-color: #f0f8ff;}#sk-container-id-1 div.sk-toggleable__content pre {margin: 0.2em;color: black;border-radius: 0.25em;background-color: #f0f8ff;}#sk-container-id-1 input.sk-toggleable__control:checked~div.sk-toggleable__content {max-height: 200px;max-width: 100%;overflow: auto;}#sk-container-id-1 input.sk-toggleable__control:checked~label.sk-toggleable__label-arrow:before {content: \"▾\";}#sk-container-id-1 div.sk-estimator input.sk-toggleable__control:checked~label.sk-toggleable__label {background-color: #d4ebff;}#sk-container-id-1 div.sk-label input.sk-toggleable__control:checked~label.sk-toggleable__label {background-color: #d4ebff;}#sk-container-id-1 input.sk-hidden--visually {border: 0;clip: rect(1px 1px 1px 1px);clip: rect(1px, 1px, 1px, 1px);height: 1px;margin: -1px;overflow: hidden;padding: 0;position: absolute;width: 1px;}#sk-container-id-1 div.sk-estimator {font-family: monospace;background-color: #f0f8ff;border: 1px dotted black;border-radius: 0.25em;box-sizing: border-box;margin-bottom: 0.5em;}#sk-container-id-1 div.sk-estimator:hover {background-color: #d4ebff;}#sk-container-id-1 div.sk-parallel-item::after {content: \"\";width: 100%;border-bottom: 1px solid gray;flex-grow: 1;}#sk-container-id-1 div.sk-label:hover label.sk-toggleable__label {background-color: #d4ebff;}#sk-container-id-1 div.sk-serial::before {content: \"\";position: absolute;border-left: 1px solid gray;box-sizing: border-box;top: 0;bottom: 0;left: 50%;z-index: 0;}#sk-container-id-1 div.sk-serial {display: flex;flex-direction: column;align-items: center;background-color: white;padding-right: 0.2em;padding-left: 0.2em;position: relative;}#sk-container-id-1 div.sk-item {position: relative;z-index: 1;}#sk-container-id-1 div.sk-parallel {display: flex;align-items: stretch;justify-content: center;background-color: white;position: relative;}#sk-container-id-1 div.sk-item::before, #sk-container-id-1 div.sk-parallel-item::before {content: \"\";position: absolute;border-left: 1px solid gray;box-sizing: border-box;top: 0;bottom: 0;left: 50%;z-index: -1;}#sk-container-id-1 div.sk-parallel-item {display: flex;flex-direction: column;z-index: 1;position: relative;background-color: white;}#sk-container-id-1 div.sk-parallel-item:first-child::after {align-self: flex-end;width: 50%;}#sk-container-id-1 div.sk-parallel-item:last-child::after {align-self: flex-start;width: 50%;}#sk-container-id-1 div.sk-parallel-item:only-child::after {width: 0;}#sk-container-id-1 div.sk-dashed-wrapped {border: 1px dashed gray;margin: 0 0.4em 0.5em 0.4em;box-sizing: border-box;padding-bottom: 0.4em;background-color: white;}#sk-container-id-1 div.sk-label label {font-family: monospace;font-weight: bold;display: inline-block;line-height: 1.2em;}#sk-container-id-1 div.sk-label-container {text-align: center;}#sk-container-id-1 div.sk-container {/* jupyter's `normalize.less` sets `[hidden] { display: none; }` but bootstrap.min.css set `[hidden] { display: none !important; }` so we also need the `!important` here to be able to override the default hidden behavior on the sphinx rendered scikit-learn.org. See: https://github.com/scikit-learn/scikit-learn/issues/21755 */display: inline-block !important;position: relative;}#sk-container-id-1 div.sk-text-repr-fallback {display: none;}</style><div id=\"sk-container-id-1\" class=\"sk-top-container\"><div class=\"sk-text-repr-fallback\"><pre>LogisticRegression()</pre><b>In a Jupyter environment, please rerun this cell to show the HTML representation or trust the notebook. <br />On GitHub, the HTML representation is unable to render, please try loading this page with nbviewer.org.</b></div><div class=\"sk-container\" hidden><div class=\"sk-item\"><div class=\"sk-estimator sk-toggleable\"><input class=\"sk-toggleable__control sk-hidden--visually\" id=\"sk-estimator-id-1\" type=\"checkbox\" checked><label for=\"sk-estimator-id-1\" class=\"sk-toggleable__label sk-toggleable__label-arrow\">LogisticRegression</label><div class=\"sk-toggleable__content\"><pre>LogisticRegression()</pre></div></div></div></div></div>"
            ],
            "text/plain": [
              "LogisticRegression()"
            ]
          },
          "execution_count": 48,
          "metadata": {},
          "output_type": "execute_result"
        }
      ],
      "source": [
        "lr1.fit(xTrainScaled, yTrain)\n",
        "lr2.fit(xTrain, yTrain)"
      ]
    },
    {
      "cell_type": "code",
      "execution_count": 55,
      "metadata": {},
      "outputs": [],
      "source": [
        "predicted1=lr1.predict(xTestScaled)\n",
        "predicted2=lr2.predict(xTest)"
      ]
    },
    {
      "cell_type": "code",
      "execution_count": 56,
      "metadata": {},
      "outputs": [],
      "source": [
        "from sklearn.metrics import accuracy_score"
      ]
    },
    {
      "cell_type": "code",
      "execution_count": 62,
      "metadata": {},
      "outputs": [
        {
          "name": "stdout",
          "output_type": "stream",
          "text": [
            "Scaled Data: 92.5 %\n",
            "Unscaled Data:  85.0 %\n"
          ]
        }
      ],
      "source": [
        "print(\"Scaled Data: {}\".format(accuracy_score(yTest, predicted1)*100), \"%\")\n",
        "print(\"Unscaled Data: \", accuracy_score(yTest, predicted2)*100, \"%\")\n",
        "\n"
      ]
    },
    {
      "cell_type": "code",
      "execution_count": null,
      "metadata": {},
      "outputs": [],
      "source": []
    }
  ],
  "metadata": {
    "colab": {
      "provenance": []
    },
    "kernelspec": {
      "display_name": "Python 3",
      "name": "python3"
    },
    "language_info": {
      "codemirror_mode": {
        "name": "ipython",
        "version": 3
      },
      "file_extension": ".py",
      "mimetype": "text/x-python",
      "name": "python",
      "nbconvert_exporter": "python",
      "pygments_lexer": "ipython3",
      "version": "3.9.6"
    }
  },
  "nbformat": 4,
  "nbformat_minor": 0
}
